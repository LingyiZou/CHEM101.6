{
 "cells": [
  {
   "cell_type": "code",
   "execution_count": 1,
   "id": "5459a9fa",
   "metadata": {
    "scrolled": false
   },
   "outputs": [],
   "source": [
    "from openmm import app\n",
    "import openmm as mm\n",
    "from simtk import unit"
   ]
  },
  {
   "cell_type": "code",
   "execution_count": 2,
   "id": "c0a5f52e",
   "metadata": {},
   "outputs": [],
   "source": [
    "pdb = app.PDBFile('butane.pdb')\n",
    "forcefield = app.ForceField('butane.gaff2.xml')\n",
    "system = forcefield.createSystem(pdb.topology, nonbondedMethod=app.NoCutoff, constraints=app.HBonds)\n",
    "integrator = mm.LangevinIntegrator(298.15*unit.kelvin, 5.0/unit.picoseconds, 2.0*unit.femtoseconds)\n",
    "# 0.002ps per step\n",
    "integrator.setConstraintTolerance(1e-5)\n",
    "platform = mm.Platform.getPlatformByName('Reference')\n",
    "simulation = app.Simulation(pdb.topology, system, integrator, platform)\n",
    "simulation.context.setPositions(pdb.positions)\n"
   ]
  },
  {
   "cell_type": "code",
   "execution_count": 3,
   "id": "f9357ad2",
   "metadata": {},
   "outputs": [
    {
     "name": "stdout",
     "output_type": "stream",
     "text": [
      "Minimizing...\n",
      "Potential energy before minimization is 5.797528692127868 kJ/mol\n",
      "Potential energy after minimization is 5.295784483017486 kJ/mol\n"
     ]
    }
   ],
   "source": [
    "print('Minimizing...')\n",
    "st = simulation.context.getState(getPositions=True,getEnergy=True)\n",
    "print(F\"Potential energy before minimization is {st.getPotentialEnergy()}\")\n",
    "simulation.minimizeEnergy(maxIterations=100)\n",
    "st = simulation.context.getState(getPositions=True,getEnergy=True)\n",
    "print(F\"Potential energy after minimization is {st.getPotentialEnergy()}\")\n"
   ]
  },
  {
   "cell_type": "code",
   "execution_count": 4,
   "id": "1cbf02a3",
   "metadata": {},
   "outputs": [
    {
     "name": "stdout",
     "output_type": "stream",
     "text": [
      "Equilibrating...\n",
      "#\"Step\",\"Potential Energy (kJ/mole)\",\"Temperature (K)\"\n",
      "250,34.683412853190006,251.05849335802176\n",
      "500,56.51711419767437,284.00744001473805\n",
      "750,39.81344164351313,334.72800846263124\n",
      "1000,48.54532385047364,317.3154709019923\n",
      "1250,42.09300686448905,454.195759060256\n",
      "1500,56.53285529742464,275.4578001337142\n",
      "1750,51.534945446091584,221.2792438728852\n",
      "2000,51.7901250739522,197.6062240330728\n",
      "2250,43.33955255104787,402.3314413344983\n",
      "2500,40.393570285831046,324.8847715999642\n",
      "2750,31.602906734334063,318.9947908280615\n",
      "3000,42.77928636592206,394.0756136123654\n",
      "3250,34.60178298542982,347.85231664884367\n",
      "3500,49.033565429360074,224.21444387637558\n",
      "3750,66.21029276523738,319.0453826294694\n",
      "4000,66.4122482502743,431.91488719338986\n",
      "4250,39.770574710722485,293.61149777475305\n",
      "4500,47.09694796090507,253.061539262538\n",
      "4750,29.678260158332762,364.00114663453127\n",
      "5000,54.33681946994653,368.61499026532135\n"
     ]
    }
   ],
   "source": [
    "from sys import stdout\n",
    "print('Equilibrating...')\n",
    "simulation.reporters.append(app.StateDataReporter(stdout, 250, step=True, \n",
    "    potentialEnergy=True, temperature=True, separator=','))\n",
    "simulation.context.setVelocitiesToTemperature(298.0*unit.kelvin)\n",
    "simulation.step(5000)\n",
    "\n"
   ]
  },
  {
   "cell_type": "code",
   "execution_count": 5,
   "id": "f2eb031d",
   "metadata": {},
   "outputs": [
    {
     "name": "stdout",
     "output_type": "stream",
     "text": [
      "Running Production...\n",
      "#\"Step\",\"Time (ps)\",\"Potential Energy (kJ/mole)\",\"Temperature (K)\",\"Speed (ns/day)\"\n",
      "500000,999.9999999901769,29.650005806586343,190.73145210806302,0\n",
      "1000000,1999.9999999665301,39.090357199445535,231.07796037066396,1.92e+04\n",
      "1500000,2999.9999999428833,49.898763952655926,312.4203036796892,1.91e+04\n",
      "2000000,3999.9999999192364,18.81180432008864,283.5359093966083,1.91e+04\n",
      "2500000,5000.000000101135,64.88554519952912,333.22150347235714,1.92e+04\n",
      "3000000,6000.000000304862,19.51759172072603,321.11999612626096,1.92e+04\n",
      "3500000,7000.0000005085885,54.92712989277512,484.6385584817607,1.92e+04\n",
      "4000000,8000.000000712315,49.00419303885427,417.4327668963519,1.92e+04\n",
      "4500000,9000.000000916041,50.731237231271884,495.77638225554875,1.92e+04\n",
      "5000000,10000.000001119768,46.34284814629816,384.16812470229786,1.92e+04\n",
      "5500000,11000.000001323495,56.31095122238718,259.43443800202584,1.92e+04\n",
      "6000000,12000.000001527222,72.31658688630567,380.35560582837707,1.92e+04\n",
      "6500000,13000.000001730948,47.327749100279746,311.56382709416533,1.92e+04\n",
      "7000000,14000.000001934675,33.453716552042394,242.2516132356209,1.93e+04\n",
      "7500000,15000.000002138402,63.4642036360582,421.9860657864914,1.93e+04\n",
      "8000000,16000.000002342129,42.39684225451385,260.8641363741981,1.93e+04\n",
      "8500000,17000.000002545854,38.39612468189592,314.93744666426596,1.93e+04\n",
      "9000000,18000.00000274958,25.71319248964897,318.01495464448396,1.93e+04\n",
      "9500000,19000.000002953308,44.35476548315585,430.44218749088276,1.93e+04\n",
      "10000000,20000.000003157034,30.867787644693315,336.86724776426075,1.93e+04\n",
      "10500000,21000.00000336076,31.282903920751224,256.2510789665473,1.93e+04\n",
      "11000000,22000.000003564488,67.15792007662867,156.0199750792833,1.92e+04\n",
      "11500000,23000.000003768215,45.08917471054149,265.84338195786216,1.92e+04\n",
      "12000000,24000.00000397194,50.22578720651329,335.62972419353815,1.92e+04\n",
      "12500000,25000.00000417567,35.504131186032566,356.08548176211974,1.92e+04\n",
      "13000000,26000.000004379395,27.751649695614198,321.25878875535903,1.92e+04\n",
      "13500000,27000.000004583122,50.14467649820509,221.69063473836823,1.92e+04\n",
      "14000000,28000.00000478685,56.22002335763783,299.1775472889331,1.92e+04\n",
      "14500000,29000.000004990576,40.99354614124585,277.3641711678398,1.92e+04\n",
      "15000000,30000.000005194303,47.93388550194138,235.33470288118727,1.92e+04\n",
      "15500000,31000.00000539803,38.167316994488836,233.6301462119174,1.92e+04\n",
      "16000000,32000.000005601756,40.410405743312815,275.3300349064353,1.92e+04\n",
      "16500000,33000.00000580548,45.3185704452454,380.81862907896465,1.92e+04\n",
      "17000000,34000.000006009206,47.98811729290025,243.33080945666612,1.92e+04\n",
      "17500000,35000.00000621293,41.82132827269257,339.0033786147951,1.92e+04\n",
      "18000000,36000.00000641666,38.84383115039674,424.6255076522197,1.92e+04\n",
      "18500000,37000.00000662039,41.12995274762779,291.8274019295186,1.92e+04\n",
      "19000000,38000.00000682411,38.158351865838476,317.7242866494861,1.92e+04\n",
      "19500000,39000.00000702784,55.57192321076137,274.48088495395086,1.92e+04\n",
      "20000000,40000.00000723157,32.976262020465725,270.7305021459034,1.92e+04\n",
      "Done!\n",
      "Time required for simulation: 179.72758030891418 seconds\n"
     ]
    }
   ],
   "source": [
    "import time as time\n",
    "print('Running Production...')\n",
    "# Begin timer\n",
    "tinit=time.time()\n",
    "# Clear simulation reporters\n",
    "simulation.reporters.clear()\n",
    "# Reinitialize simulation reporters. We do this because we want different information printed from the production run than the equilibration run.\n",
    "# output basic simulation information below every 250000 steps - (which is equal to 2 fs(250,000) = 500,000 fs = 500 ps)\n",
    "simulation.reporters.append(app.StateDataReporter(stdout, 500000, \n",
    "    step=True, time=True, potentialEnergy=True, temperature=True, \n",
    "    speed=True, separator=','))# write out a trajectory (i.e., coordinates vs. time) to a DCD\n",
    "# file every 100 steps - 0.2 ps\n",
    "simulation.reporters.append(app.DCDReporter('butane_sim.dcd', 100))\n",
    "# run the simulation for 1.0x10^7 steps - 20 ns\n",
    "simulation.step(20000000)\n",
    "# End timer\n",
    "tfinal=time.time()\n",
    "print('Done!')\n",
    "print('Time required for simulation:', tfinal-tinit, 'seconds')"
   ]
  }
 ],
 "metadata": {
  "kernelspec": {
   "display_name": "Python 3 (ipykernel)",
   "language": "python",
   "name": "python3"
  },
  "language_info": {
   "codemirror_mode": {
    "name": "ipython",
    "version": 3
   },
   "file_extension": ".py",
   "mimetype": "text/x-python",
   "name": "python",
   "nbconvert_exporter": "python",
   "pygments_lexer": "ipython3",
   "version": "3.9.7"
  }
 },
 "nbformat": 4,
 "nbformat_minor": 5
}
