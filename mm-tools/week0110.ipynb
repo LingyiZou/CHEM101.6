{
 "cells": [
  {
   "cell_type": "markdown",
   "id": "0ed19302",
   "metadata": {},
   "source": [
    "# Ethane simulation"
   ]
  },
  {
   "cell_type": "code",
   "execution_count": 1,
   "id": "5459a9fa",
   "metadata": {
    "scrolled": false
   },
   "outputs": [],
   "source": [
    "from openmm import app\n",
    "import openmm as mm\n",
    "from simtk import unit"
   ]
  },
  {
   "cell_type": "code",
   "execution_count": 2,
   "id": "c0a5f52e",
   "metadata": {},
   "outputs": [],
   "source": [
    "pdb = app.PDBFile('ethane.pdb')\n",
    "forcefield = app.ForceField('ethane.gaff2.xml')\n",
    "system = forcefield.createSystem(pdb.topology, nonbondedMethod=app.NoCutoff, constraints=app.HBonds)\n",
    "integrator = mm.LangevinIntegrator(298.15*unit.kelvin, 5.0/unit.picoseconds, 2.0*unit.femtoseconds)\n",
    "# 0.002ps per step\n",
    "integrator.setConstraintTolerance(1e-5)\n",
    "platform = mm.Platform.getPlatformByName('Reference')\n",
    "simulation = app.Simulation(pdb.topology, system, integrator, platform)\n",
    "simulation.context.setPositions(pdb.positions)\n"
   ]
  },
  {
   "cell_type": "code",
   "execution_count": 3,
   "id": "f9357ad2",
   "metadata": {},
   "outputs": [
    {
     "name": "stdout",
     "output_type": "stream",
     "text": [
      "Minimizing...\n",
      "Potential energy before minimization is 4.467818271065182 kJ/mol\n",
      "Potential energy after minimization is 4.389967724953268 kJ/mol\n"
     ]
    }
   ],
   "source": [
    "print('Minimizing...')\n",
    "\n",
    "st = simulation.context.getState(getPositions=True,getEnergy=True)\n",
    "print(F\"Potential energy before minimization is {st.getPotentialEnergy()}\")\n",
    "\n",
    "simulation.minimizeEnergy(maxIterations=100)\n",
    "\n",
    "st = simulation.context.getState(getPositions=True,getEnergy=True)\n",
    "print(F\"Potential energy after minimization is {st.getPotentialEnergy()}\")"
   ]
  },
  {
   "cell_type": "code",
   "execution_count": 4,
   "id": "1cbf02a3",
   "metadata": {},
   "outputs": [
    {
     "name": "stdout",
     "output_type": "stream",
     "text": [
      "Equilibrating...\n",
      "#\"Step\",\"Potential Energy (kJ/mole)\",\"Temperature (K)\"\n",
      "100,11.105159289247474,202.73080966000862\n",
      "200,21.463262264516267,160.863761010032\n",
      "300,18.839517432622994,246.7912697942112\n",
      "400,27.82791034371736,340.08023230553295\n",
      "500,31.258674925427957,473.6279111757531\n",
      "600,22.683643500847932,375.70213403572575\n",
      "700,13.146028122277961,447.18919440900885\n",
      "800,34.87451155944521,352.8892438419925\n",
      "900,23.539881255600548,285.55475860433313\n",
      "1000,20.423626390918624,267.8540187148849\n",
      "1100,27.707097502396206,178.75302651262982\n",
      "1200,20.604880657357317,195.94740838245843\n",
      "1300,14.595375497833906,351.0942730328004\n",
      "1400,32.25681046134821,447.9671948867686\n",
      "1500,16.17428658606301,377.87860746562404\n",
      "1600,29.08015538097652,203.22705461674713\n",
      "1700,14.229510861813813,352.6497376674792\n",
      "1800,31.89031392545649,188.5574721252522\n",
      "1900,22.927547733813412,244.70747914308765\n",
      "2000,37.15026316875236,378.5304692908082\n",
      "2100,21.899066773088066,384.1379823360565\n",
      "2200,29.973878409245884,397.4181452589868\n",
      "2300,23.15779090912382,459.3507726640584\n",
      "2400,28.25710224140413,235.06460859477582\n",
      "2500,25.246808268044195,611.4816904254961\n"
     ]
    }
   ],
   "source": [
    "from sys import stdout\n",
    "print('Equilibrating...')\n",
    "\n",
    "simulation.reporters.append(app.StateDataReporter(stdout, 100, step=True, \n",
    "    potentialEnergy=True, temperature=True, separator=','))\n",
    "simulation.context.setVelocitiesToTemperature(150.0*unit.kelvin)\n",
    "simulation.step(2500)\n",
    "\n"
   ]
  },
  {
   "cell_type": "code",
   "execution_count": 5,
   "id": "f2eb031d",
   "metadata": {
    "scrolled": false
   },
   "outputs": [
    {
     "name": "stdout",
     "output_type": "stream",
     "text": [
      "Running Production...\n",
      "#\"Step\",\"Time (ps)\",\"Potential Energy (kJ/mole)\",\"Temperature (K)\",\"Speed (ns/day)\"\n",
      "250000,500.0000000016593,22.695555450478746,82.59729994506823,0\n",
      "500000,999.9999999901769,28.98502380025264,131.22364934827013,3.91e+04\n",
      "750000,1499.9999999783536,13.241601781990184,379.15937478324577,3.91e+04\n",
      "1000000,1999.9999999665301,26.191037198770573,482.76670012055405,3.9e+04\n",
      "1250000,2499.9999999547067,22.836096740331417,347.3175553005762,3.9e+04\n",
      "1500000,2999.9999999428833,35.022646843973504,254.52231205027604,3.89e+04\n",
      "1750000,3499.99999993106,20.03197340880152,225.64324373056115,3.89e+04\n",
      "2000000,3999.9999999192364,13.731817558595072,311.991597212394,3.89e+04\n",
      "2250000,4499.9999999992715,15.410918791076073,127.91820247230187,3.9e+04\n",
      "2500000,5000.000000101135,29.267891087164667,395.5180420752211,3.89e+04\n",
      "2750000,5500.000000202998,16.946312305538008,86.28632562669542,3.9e+04\n",
      "3000000,6000.000000304862,28.79673847971801,289.92803553232784,3.89e+04\n",
      "3250000,6500.000000406725,17.819978827369077,179.89197291512144,3.89e+04\n",
      "3500000,7000.0000005085885,23.069158685707414,186.47203530143156,3.89e+04\n",
      "3750000,7500.000000610452,25.8759233393102,145.41567767809715,3.89e+04\n",
      "4000000,8000.000000712315,25.71846669399575,310.8226297405596,3.89e+04\n",
      "4250000,8500.000000814178,14.902937308262368,249.05171440457914,3.89e+04\n",
      "4500000,9000.000000916041,19.881113514980324,202.59332631075173,3.89e+04\n",
      "4750000,9500.000001017905,11.061826232774582,269.97453169659053,3.88e+04\n",
      "5000000,10000.000001119768,13.679209446527668,404.9078401799829,3.88e+04\n",
      "5250000,10500.000001221631,19.91709500607519,341.6240508218292,3.89e+04\n",
      "5500000,11000.000001323495,23.605659812962056,381.0215030295738,3.88e+04\n",
      "5750000,11500.000001425358,9.917605364066015,237.0321912325545,3.88e+04\n",
      "6000000,12000.000001527222,15.75219163811764,204.783467738383,3.88e+04\n",
      "6250000,12500.000001629085,17.011563003134096,112.89159849594984,3.89e+04\n",
      "6500000,13000.000001730948,22.46924094789305,258.1286829224567,3.89e+04\n",
      "6750000,13500.000001832812,29.248069812684783,365.01068311844443,3.88e+04\n",
      "7000000,14000.000001934675,17.813478971977236,230.30845764028209,3.88e+04\n",
      "7250000,14500.000002036539,24.963878459055422,167.01430215540512,3.88e+04\n",
      "7500000,15000.000002138402,24.683142594400664,117.85905601694986,3.88e+04\n",
      "7750000,15500.000002240266,11.041789559734228,363.69911762389813,3.88e+04\n",
      "8000000,16000.000002342129,26.92786520127109,539.1359029000128,3.88e+04\n",
      "8250000,16500.00000244399,20.234934423046568,195.55198561089705,3.88e+04\n",
      "8500000,17000.000002545854,25.83299580974619,350.25749081451556,3.88e+04\n",
      "8750000,17500.000002647717,17.6480801549867,190.76751506380543,3.89e+04\n",
      "9000000,18000.00000274958,30.54987160587471,274.4841854559957,3.89e+04\n",
      "9250000,18500.000002851444,19.71985533274055,248.1771804454026,3.89e+04\n",
      "9500000,19000.000002953308,11.512879206312716,341.90192653909554,3.89e+04\n",
      "9750000,19500.00000305517,18.35771727514442,326.77021819999214,3.89e+04\n",
      "10000000,20000.000003157034,21.140170360615663,293.2566510767218,3.88e+04\n",
      "Done!\n",
      "Time required for simulation: 44.45885896682739 seconds\n"
     ]
    }
   ],
   "source": [
    "import time as time\n",
    "\n",
    "print('Running Production...')\n",
    "\n",
    "# Begin timer\n",
    "tinit=time.time()\n",
    "\n",
    "# Clear simulation reporters\n",
    "simulation.reporters.clear()\n",
    "\n",
    "# Reinitialize simulation reporters. We do this because we want different information printed from the production run than the equilibration run.\n",
    "# output basic simulation information below every 250000 steps - (which is equal to 2 fs(250,000) = 500,000 fs = 500 ps)\n",
    "simulation.reporters.append(app.StateDataReporter(stdout, 250000, \n",
    "    step=True, time=True, potentialEnergy=True, temperature=True, \n",
    "    speed=True, separator=','))\n",
    "\n",
    "# write out a trajectory (i.e., coordinates vs. time) to a DCD\n",
    "# file every 100 steps - 0.2 ps\n",
    "simulation.reporters.append(app.DCDReporter('ethane_sim.dcd', 100))\n",
    "\n",
    "# run the simulation for 1.0x10^7 steps - 20 ns\n",
    "simulation.step(10000000)\n",
    "\n",
    "# End timer\n",
    "tfinal=time.time()\n",
    "print('Done!')\n",
    "print('Time required for simulation:', tfinal-tinit, 'seconds')"
   ]
  },
  {
   "cell_type": "markdown",
   "id": "a74007eb",
   "metadata": {},
   "source": [
    "# Ethane analysis"
   ]
  },
  {
   "cell_type": "code",
   "execution_count": 1,
   "id": "9b8ac0d7",
   "metadata": {},
   "outputs": [],
   "source": [
    "import mdtraj as md\n",
    "traj = md.load('ethane_sim.dcd', top='ethane.pdb')"
   ]
  },
  {
   "cell_type": "code",
   "execution_count": 2,
   "id": "6183eb20",
   "metadata": {},
   "outputs": [
    {
     "data": {
      "application/vnd.jupyter.widget-view+json": {
       "model_id": "a724405a84374af4bedea8e32933a0fc",
       "version_major": 2,
       "version_minor": 0
      },
      "text/plain": []
     },
     "metadata": {},
     "output_type": "display_data"
    },
    {
     "data": {
      "application/vnd.jupyter.widget-view+json": {
       "model_id": "58bea4312bfa4aac92f32b5d83898927",
       "version_major": 2,
       "version_minor": 0
      },
      "text/plain": [
       "NGLWidget(max_frame=99999)"
      ]
     },
     "metadata": {},
     "output_type": "display_data"
    }
   ],
   "source": [
    "import nglview as ngl\n",
    "\n",
    "visualize = ngl.show_mdtraj(traj)\n",
    "visualize"
   ]
  },
  {
   "cell_type": "code",
   "execution_count": 3,
   "id": "bc08af9e",
   "metadata": {},
   "outputs": [
    {
     "data": {
      "text/html": [
       "<div>\n",
       "<style scoped>\n",
       "    .dataframe tbody tr th:only-of-type {\n",
       "        vertical-align: middle;\n",
       "    }\n",
       "\n",
       "    .dataframe tbody tr th {\n",
       "        vertical-align: top;\n",
       "    }\n",
       "\n",
       "    .dataframe thead th {\n",
       "        text-align: right;\n",
       "    }\n",
       "</style>\n",
       "<table border=\"1\" class=\"dataframe\">\n",
       "  <thead>\n",
       "    <tr style=\"text-align: right;\">\n",
       "      <th></th>\n",
       "      <th>serial</th>\n",
       "      <th>name</th>\n",
       "      <th>element</th>\n",
       "      <th>resSeq</th>\n",
       "      <th>resName</th>\n",
       "      <th>chainID</th>\n",
       "      <th>segmentID</th>\n",
       "    </tr>\n",
       "  </thead>\n",
       "  <tbody>\n",
       "    <tr>\n",
       "      <th>0</th>\n",
       "      <td>1</td>\n",
       "      <td>C1</td>\n",
       "      <td>C</td>\n",
       "      <td>1</td>\n",
       "      <td>ETH</td>\n",
       "      <td>0</td>\n",
       "      <td></td>\n",
       "    </tr>\n",
       "    <tr>\n",
       "      <th>1</th>\n",
       "      <td>2</td>\n",
       "      <td>H11</td>\n",
       "      <td>H</td>\n",
       "      <td>1</td>\n",
       "      <td>ETH</td>\n",
       "      <td>0</td>\n",
       "      <td></td>\n",
       "    </tr>\n",
       "    <tr>\n",
       "      <th>2</th>\n",
       "      <td>3</td>\n",
       "      <td>H12</td>\n",
       "      <td>H</td>\n",
       "      <td>1</td>\n",
       "      <td>ETH</td>\n",
       "      <td>0</td>\n",
       "      <td></td>\n",
       "    </tr>\n",
       "    <tr>\n",
       "      <th>3</th>\n",
       "      <td>4</td>\n",
       "      <td>H13</td>\n",
       "      <td>H</td>\n",
       "      <td>1</td>\n",
       "      <td>ETH</td>\n",
       "      <td>0</td>\n",
       "      <td></td>\n",
       "    </tr>\n",
       "    <tr>\n",
       "      <th>4</th>\n",
       "      <td>5</td>\n",
       "      <td>C2</td>\n",
       "      <td>C</td>\n",
       "      <td>1</td>\n",
       "      <td>ETH</td>\n",
       "      <td>0</td>\n",
       "      <td></td>\n",
       "    </tr>\n",
       "    <tr>\n",
       "      <th>5</th>\n",
       "      <td>6</td>\n",
       "      <td>H21</td>\n",
       "      <td>H</td>\n",
       "      <td>1</td>\n",
       "      <td>ETH</td>\n",
       "      <td>0</td>\n",
       "      <td></td>\n",
       "    </tr>\n",
       "    <tr>\n",
       "      <th>6</th>\n",
       "      <td>7</td>\n",
       "      <td>H22</td>\n",
       "      <td>H</td>\n",
       "      <td>1</td>\n",
       "      <td>ETH</td>\n",
       "      <td>0</td>\n",
       "      <td></td>\n",
       "    </tr>\n",
       "    <tr>\n",
       "      <th>7</th>\n",
       "      <td>8</td>\n",
       "      <td>H23</td>\n",
       "      <td>H</td>\n",
       "      <td>1</td>\n",
       "      <td>ETH</td>\n",
       "      <td>0</td>\n",
       "      <td></td>\n",
       "    </tr>\n",
       "  </tbody>\n",
       "</table>\n",
       "</div>"
      ],
      "text/plain": [
       "   serial name element  resSeq resName  chainID segmentID\n",
       "0       1   C1       C       1     ETH        0          \n",
       "1       2  H11       H       1     ETH        0          \n",
       "2       3  H12       H       1     ETH        0          \n",
       "3       4  H13       H       1     ETH        0          \n",
       "4       5   C2       C       1     ETH        0          \n",
       "5       6  H21       H       1     ETH        0          \n",
       "6       7  H22       H       1     ETH        0          \n",
       "7       8  H23       H       1     ETH        0          "
      ]
     },
     "execution_count": 3,
     "metadata": {},
     "output_type": "execute_result"
    }
   ],
   "source": [
    "atoms, bonds = traj.topology.to_dataframe()\n",
    "atoms"
   ]
  },
  {
   "cell_type": "code",
   "execution_count": 4,
   "id": "db5bc28d",
   "metadata": {},
   "outputs": [],
   "source": [
    "bond_indices = [0, 4] # atoms to define the bond length\n",
    "bond_length = md.compute_distances(traj, [bond_indices])"
   ]
  },
  {
   "cell_type": "code",
   "execution_count": 5,
   "id": "a9cf14c8",
   "metadata": {},
   "outputs": [
    {
     "data": {
      "image/png": "[encoded data removed]",
      "text/plain": [
       "<Figure size 432x288 with 1 Axes>"
      ]
     },
     "metadata": {
      "needs_background": "light"
     },
     "output_type": "display_data"
    }
   ],
   "source": [
    "import matplotlib.pyplot as plt\n",
    "bondcounts, binedges, otherstuff = plt.hist(bond_length, bins=120)\n",
    "plt.title('C-C bond length histogram')\n",
    "plt.xlabel('Bond length (nm)')\n",
    "plt.ylabel('Counts')\n",
    "plt.show()"
   ]
  },
  {
   "cell_type": "code",
   "execution_count": 6,
   "id": "e6fbe40e",
   "metadata": {},
   "outputs": [
    {
     "name": "stdout",
     "output_type": "stream",
     "text": [
      "[[1.099205  ]\n",
      " [0.78671306]\n",
      " [1.3411317 ]\n",
      " ...\n",
      " [1.2306288 ]\n",
      " [0.8115747 ]\n",
      " [1.2500936 ]]\n"
     ]
    }
   ],
   "source": [
    "phi_indices = [1, 0, 4, 5] # atoms to define the torsion angle\n",
    "phi = md.compute_dihedrals(traj, [phi_indices])\n",
    "\n",
    "print(phi)"
   ]
  },
  {
   "cell_type": "code",
   "execution_count": 7,
   "id": "5d52395a",
   "metadata": {},
   "outputs": [
    {
     "data": {
      "image/png": "[encoded data removed]",
      "text/plain": [
       "<Figure size 432x288 with 1 Axes>"
      ]
     },
     "metadata": {
      "needs_background": "light"
     },
     "output_type": "display_data"
    }
   ],
   "source": [
    "phicounts, torbinedges, otherstuff = plt.hist(phi, bins=90) # create a histogram with 90 bins\n",
    "plt.title('H-C-C-H torsion angle')\n",
    "plt.xlabel(r'$\\phi$ (rad)')\n",
    "plt.ylabel('Counts')\n",
    "plt.show()"
   ]
  },
  {
   "cell_type": "code",
   "execution_count": 8,
   "id": "5c76da5b",
   "metadata": {
    "scrolled": true
   },
   "outputs": [
    {
     "data": {
      "image/png": "[encoded data removed]",
      "text/plain": [
       "<Figure size 432x288 with 1 Axes>"
      ]
     },
     "metadata": {
      "needs_background": "light"
     },
     "output_type": "display_data"
    }
   ],
   "source": [
    "import numpy as np\n",
    "kB = 8.31446/1000 # Boltzmann constant in kJ/mol\n",
    "Temp = 298.15 # simulation temperature\n",
    "phicounts[phicounts==0] = 0.1 # get rid of any bins with 0 counts/infinite energy\n",
    "pmf = -kB*Temp*np.log(phicounts) # W(x) = -kT*ln[p(x)] = -kT*ln[n(x)] + C\n",
    "pmf = pmf - np.min(pmf) # subtract off minimum value so that energies start from 0\n",
    "\n",
    "bincenters = (torbinedges[1:] + torbinedges[:-1])/2 # compute centers of histogram bins\n",
    "\n",
    "plt.plot(bincenters, pmf)\n",
    "plt.title('H-C-C-H torsion pmf')\n",
    "plt.xlabel(r'$\\phi$ (rad)')\n",
    "plt.ylabel('Relative free energy (kJ/mol)')\n",
    "plt.show()"
   ]
  },
  {
   "cell_type": "code",
   "execution_count": 9,
   "id": "3dff7b20",
   "metadata": {
    "scrolled": false
   },
   "outputs": [
    {
     "data": {
      "image/png": "[encoded data removed]",
      "text/plain": [
       "<Figure size 432x288 with 1 Axes>"
      ]
     },
     "metadata": {
      "needs_background": "light"
     },
     "output_type": "display_data"
    }
   ],
   "source": [
    "import statsmodels.api as sm\n",
    "bondcounts, binedges, otherstuff = plt.hist(bond_length, bins=120)\n",
    "\n",
    "bondcounts[bondcounts==0] = 0.1\n",
    "pmf = -kB*Temp*np.log(bondcounts)\n",
    "pmf = pmf - np.min(pmf)\n",
    "\n",
    "bincenters = (binedges[1:] + binedges[:-1])/2\n",
    "\n",
    "pmf_smoothed = sm.nonparametric.lowess(pmf, bincenters, frac=0.05)\n",
    "pmf_s = pmf_smoothed[:,1] - np.min(pmf_smoothed[:,1])\n",
    "\n",
    "plt.plot(bincenters, pmf_s)\n",
    "plt.xlabel('Bond length (nm)')\n",
    "plt.ylabel('Relative free energy (kJ/mol)')\n",
    "plt.title('C-C bond length pmf')\n",
    "plt.show()"
   ]
  },
  {
   "cell_type": "markdown",
   "id": "8264ef14",
   "metadata": {},
   "source": [
    "# Butane simulation"
   ]
  },
  {
   "cell_type": "code",
   "execution_count": 1,
   "id": "efbbdb5d",
   "metadata": {
    "scrolled": false
   },
   "outputs": [],
   "source": [
    "from openmm import app\n",
    "import openmm as mm\n",
    "from simtk import unit"
   ]
  },
  {
   "cell_type": "code",
   "execution_count": 2,
   "id": "c0a5f52e",
   "metadata": {},
   "outputs": [],
   "source": [
    "pdb = app.PDBFile('butane.pdb')\n",
    "forcefield = app.ForceField('butane.gaff2.xml')\n",
    "system = forcefield.createSystem(pdb.topology, nonbondedMethod=app.NoCutoff, constraints=app.HBonds)\n",
    "integrator = mm.LangevinIntegrator(298.15*unit.kelvin, 5.0/unit.picoseconds, 2.0*unit.femtoseconds)\n",
    "# 0.002ps per step\n",
    "integrator.setConstraintTolerance(1e-5)\n",
    "platform = mm.Platform.getPlatformByName('Reference')\n",
    "simulation = app.Simulation(pdb.topology, system, integrator, platform)\n",
    "simulation.context.setPositions(pdb.positions)\n"
   ]
  },
  {
   "cell_type": "code",
   "execution_count": 3,
   "id": "f9357ad2",
   "metadata": {},
   "outputs": [
    {
     "name": "stdout",
     "output_type": "stream",
     "text": [
      "Minimizing...\n",
      "Potential energy before minimization is 5.797528692127868 kJ/mol\n",
      "Potential energy after minimization is 5.295784483017486 kJ/mol\n"
     ]
    }
   ],
   "source": [
    "print('Minimizing...')\n",
    "st = simulation.context.getState(getPositions=True,getEnergy=True)\n",
    "print(F\"Potential energy before minimization is {st.getPotentialEnergy()}\")\n",
    "simulation.minimizeEnergy(maxIterations=100)\n",
    "st = simulation.context.getState(getPositions=True,getEnergy=True)\n",
    "print(F\"Potential energy after minimization is {st.getPotentialEnergy()}\")\n"
   ]
  },
  {
   "cell_type": "code",
   "execution_count": 4,
   "id": "1cbf02a3",
   "metadata": {},
   "outputs": [
    {
     "name": "stdout",
     "output_type": "stream",
     "text": [
      "Equilibrating...\n",
      "#\"Step\",\"Potential Energy (kJ/mole)\",\"Temperature (K)\"\n",
      "250,34.683412853190006,251.05849335802176\n",
      "500,56.51711419767437,284.00744001473805\n",
      "750,39.81344164351313,334.72800846263124\n",
      "1000,48.54532385047364,317.3154709019923\n",
      "1250,42.09300686448905,454.195759060256\n",
      "1500,56.53285529742464,275.4578001337142\n",
      "1750,51.534945446091584,221.2792438728852\n",
      "2000,51.7901250739522,197.6062240330728\n",
      "2250,43.33955255104787,402.3314413344983\n",
      "2500,40.393570285831046,324.8847715999642\n",
      "2750,31.602906734334063,318.9947908280615\n",
      "3000,42.77928636592206,394.0756136123654\n",
      "3250,34.60178298542982,347.85231664884367\n",
      "3500,49.033565429360074,224.21444387637558\n",
      "3750,66.21029276523738,319.0453826294694\n",
      "4000,66.4122482502743,431.91488719338986\n",
      "4250,39.770574710722485,293.61149777475305\n",
      "4500,47.09694796090507,253.061539262538\n",
      "4750,29.678260158332762,364.00114663453127\n",
      "5000,54.33681946994653,368.61499026532135\n"
     ]
    }
   ],
   "source": [
    "from sys import stdout\n",
    "print('Equilibrating...')\n",
    "simulation.reporters.append(app.StateDataReporter(stdout, 250, step=True, \n",
    "    potentialEnergy=True, temperature=True, separator=','))\n",
    "simulation.context.setVelocitiesToTemperature(298.0*unit.kelvin)\n",
    "simulation.step(5000)\n",
    "\n"
   ]
  },
  {
   "cell_type": "code",
   "execution_count": 5,
   "id": "f2eb031d",
   "metadata": {},
   "outputs": [
    {
     "name": "stdout",
     "output_type": "stream",
     "text": [
      "Running Production...\n",
      "#\"Step\",\"Time (ps)\",\"Potential Energy (kJ/mole)\",\"Temperature (K)\",\"Speed (ns/day)\"\n",
      "500000,999.9999999901769,29.650005806586343,190.73145210806302,0\n",
      "1000000,1999.9999999665301,39.090357199445535,231.07796037066396,1.92e+04\n",
      "1500000,2999.9999999428833,49.898763952655926,312.4203036796892,1.91e+04\n",
      "2000000,3999.9999999192364,18.81180432008864,283.5359093966083,1.91e+04\n",
      "2500000,5000.000000101135,64.88554519952912,333.22150347235714,1.92e+04\n",
      "3000000,6000.000000304862,19.51759172072603,321.11999612626096,1.92e+04\n",
      "3500000,7000.0000005085885,54.92712989277512,484.6385584817607,1.92e+04\n",
      "4000000,8000.000000712315,49.00419303885427,417.4327668963519,1.92e+04\n",
      "4500000,9000.000000916041,50.731237231271884,495.77638225554875,1.92e+04\n",
      "5000000,10000.000001119768,46.34284814629816,384.16812470229786,1.92e+04\n",
      "5500000,11000.000001323495,56.31095122238718,259.43443800202584,1.92e+04\n",
      "6000000,12000.000001527222,72.31658688630567,380.35560582837707,1.92e+04\n",
      "6500000,13000.000001730948,47.327749100279746,311.56382709416533,1.92e+04\n",
      "7000000,14000.000001934675,33.453716552042394,242.2516132356209,1.93e+04\n",
      "7500000,15000.000002138402,63.4642036360582,421.9860657864914,1.93e+04\n",
      "8000000,16000.000002342129,42.39684225451385,260.8641363741981,1.93e+04\n",
      "8500000,17000.000002545854,38.39612468189592,314.93744666426596,1.93e+04\n",
      "9000000,18000.00000274958,25.71319248964897,318.01495464448396,1.93e+04\n",
      "9500000,19000.000002953308,44.35476548315585,430.44218749088276,1.93e+04\n",
      "10000000,20000.000003157034,30.867787644693315,336.86724776426075,1.93e+04\n",
      "10500000,21000.00000336076,31.282903920751224,256.2510789665473,1.93e+04\n",
      "11000000,22000.000003564488,67.15792007662867,156.0199750792833,1.92e+04\n",
      "11500000,23000.000003768215,45.08917471054149,265.84338195786216,1.92e+04\n",
      "12000000,24000.00000397194,50.22578720651329,335.62972419353815,1.92e+04\n",
      "12500000,25000.00000417567,35.504131186032566,356.08548176211974,1.92e+04\n",
      "13000000,26000.000004379395,27.751649695614198,321.25878875535903,1.92e+04\n",
      "13500000,27000.000004583122,50.14467649820509,221.69063473836823,1.92e+04\n",
      "14000000,28000.00000478685,56.22002335763783,299.1775472889331,1.92e+04\n",
      "14500000,29000.000004990576,40.99354614124585,277.3641711678398,1.92e+04\n",
      "15000000,30000.000005194303,47.93388550194138,235.33470288118727,1.92e+04\n",
      "15500000,31000.00000539803,38.167316994488836,233.6301462119174,1.92e+04\n",
      "16000000,32000.000005601756,40.410405743312815,275.3300349064353,1.92e+04\n",
      "16500000,33000.00000580548,45.3185704452454,380.81862907896465,1.92e+04\n",
      "17000000,34000.000006009206,47.98811729290025,243.33080945666612,1.92e+04\n",
      "17500000,35000.00000621293,41.82132827269257,339.0033786147951,1.92e+04\n",
      "18000000,36000.00000641666,38.84383115039674,424.6255076522197,1.92e+04\n",
      "18500000,37000.00000662039,41.12995274762779,291.8274019295186,1.92e+04\n",
      "19000000,38000.00000682411,38.158351865838476,317.7242866494861,1.92e+04\n",
      "19500000,39000.00000702784,55.57192321076137,274.48088495395086,1.92e+04\n",
      "20000000,40000.00000723157,32.976262020465725,270.7305021459034,1.92e+04\n",
      "Done!\n",
      "Time required for simulation: 179.72758030891418 seconds\n"
     ]
    }
   ],
   "source": [
    "import time as time\n",
    "print('Running Production...')\n",
    "# Begin timer\n",
    "tinit=time.time()\n",
    "# Clear simulation reporters\n",
    "simulation.reporters.clear()\n",
    "# Reinitialize simulation reporters. We do this because we want different information printed from the production run than the equilibration run.\n",
    "# output basic simulation information below every 250000 steps - (which is equal to 2 fs(250,000) = 500,000 fs = 500 ps)\n",
    "simulation.reporters.append(app.StateDataReporter(stdout, 500000, \n",
    "    step=True, time=True, potentialEnergy=True, temperature=True, \n",
    "    speed=True, separator=','))# write out a trajectory (i.e., coordinates vs. time) to a DCD\n",
    "# file every 100 steps - 0.2 ps\n",
    "simulation.reporters.append(app.DCDReporter('butane_sim.dcd', 100))\n",
    "# run the simulation for 1.0x10^7 steps - 20 ns\n",
    "simulation.step(20000000)\n",
    "# End timer\n",
    "tfinal=time.time()\n",
    "print('Done!')\n",
    "print('Time required for simulation:', tfinal-tinit, 'seconds')"
   ]
  },
  {
   "cell_type": "markdown",
   "id": "f0a63233",
   "metadata": {},
   "source": [
    "# Butane analysis"
   ]
  },
  {
   "cell_type": "code",
   "execution_count": 1,
   "id": "9b8ac0d7",
   "metadata": {},
   "outputs": [],
   "source": [
    "import mdtraj as md\n",
    "traj = md.load('butane_sim.dcd', top='butane.pdb')"
   ]
  },
  {
   "cell_type": "code",
   "execution_count": 2,
   "id": "6183eb20",
   "metadata": {},
   "outputs": [
    {
     "data": {
      "application/vnd.jupyter.widget-view+json": {
       "model_id": "cd62097a5bc04601adb569b79b368842",
       "version_major": 2,
       "version_minor": 0
      },
      "text/plain": []
     },
     "metadata": {},
     "output_type": "display_data"
    },
    {
     "data": {
      "application/vnd.jupyter.widget-view+json": {
       "model_id": "1e9aaaab5e3a441ab7e2631fb0aa16c7",
       "version_major": 2,
       "version_minor": 0
      },
      "text/plain": [
       "NGLWidget(max_frame=199999)"
      ]
     },
     "metadata": {},
     "output_type": "display_data"
    }
   ],
   "source": [
    "import nglview as ngl\n",
    "\n",
    "visualize = ngl.show_mdtraj(traj)\n",
    "visualize"
   ]
  },
  {
   "cell_type": "code",
   "execution_count": 3,
   "id": "bc08af9e",
   "metadata": {},
   "outputs": [
    {
     "data": {
      "text/html": [
       "<div>\n",
       "<style scoped>\n",
       "    .dataframe tbody tr th:only-of-type {\n",
       "        vertical-align: middle;\n",
       "    }\n",
       "\n",
       "    .dataframe tbody tr th {\n",
       "        vertical-align: top;\n",
       "    }\n",
       "\n",
       "    .dataframe thead th {\n",
       "        text-align: right;\n",
       "    }\n",
       "</style>\n",
       "<table border=\"1\" class=\"dataframe\">\n",
       "  <thead>\n",
       "    <tr style=\"text-align: right;\">\n",
       "      <th></th>\n",
       "      <th>serial</th>\n",
       "      <th>name</th>\n",
       "      <th>element</th>\n",
       "      <th>resSeq</th>\n",
       "      <th>resName</th>\n",
       "      <th>chainID</th>\n",
       "      <th>segmentID</th>\n",
       "    </tr>\n",
       "  </thead>\n",
       "  <tbody>\n",
       "    <tr>\n",
       "      <th>0</th>\n",
       "      <td>1</td>\n",
       "      <td>C1</td>\n",
       "      <td>C</td>\n",
       "      <td>1</td>\n",
       "      <td>NBU</td>\n",
       "      <td>0</td>\n",
       "      <td></td>\n",
       "    </tr>\n",
       "    <tr>\n",
       "      <th>1</th>\n",
       "      <td>2</td>\n",
       "      <td>H11</td>\n",
       "      <td>H</td>\n",
       "      <td>1</td>\n",
       "      <td>NBU</td>\n",
       "      <td>0</td>\n",
       "      <td></td>\n",
       "    </tr>\n",
       "    <tr>\n",
       "      <th>2</th>\n",
       "      <td>3</td>\n",
       "      <td>H12</td>\n",
       "      <td>H</td>\n",
       "      <td>1</td>\n",
       "      <td>NBU</td>\n",
       "      <td>0</td>\n",
       "      <td></td>\n",
       "    </tr>\n",
       "    <tr>\n",
       "      <th>3</th>\n",
       "      <td>4</td>\n",
       "      <td>H13</td>\n",
       "      <td>H</td>\n",
       "      <td>1</td>\n",
       "      <td>NBU</td>\n",
       "      <td>0</td>\n",
       "      <td></td>\n",
       "    </tr>\n",
       "    <tr>\n",
       "      <th>4</th>\n",
       "      <td>5</td>\n",
       "      <td>C2</td>\n",
       "      <td>C</td>\n",
       "      <td>1</td>\n",
       "      <td>NBU</td>\n",
       "      <td>0</td>\n",
       "      <td></td>\n",
       "    </tr>\n",
       "    <tr>\n",
       "      <th>5</th>\n",
       "      <td>6</td>\n",
       "      <td>H21</td>\n",
       "      <td>H</td>\n",
       "      <td>1</td>\n",
       "      <td>NBU</td>\n",
       "      <td>0</td>\n",
       "      <td></td>\n",
       "    </tr>\n",
       "    <tr>\n",
       "      <th>6</th>\n",
       "      <td>7</td>\n",
       "      <td>H22</td>\n",
       "      <td>H</td>\n",
       "      <td>1</td>\n",
       "      <td>NBU</td>\n",
       "      <td>0</td>\n",
       "      <td></td>\n",
       "    </tr>\n",
       "    <tr>\n",
       "      <th>7</th>\n",
       "      <td>8</td>\n",
       "      <td>C3</td>\n",
       "      <td>C</td>\n",
       "      <td>1</td>\n",
       "      <td>NBU</td>\n",
       "      <td>0</td>\n",
       "      <td></td>\n",
       "    </tr>\n",
       "    <tr>\n",
       "      <th>8</th>\n",
       "      <td>9</td>\n",
       "      <td>H31</td>\n",
       "      <td>H</td>\n",
       "      <td>1</td>\n",
       "      <td>NBU</td>\n",
       "      <td>0</td>\n",
       "      <td></td>\n",
       "    </tr>\n",
       "    <tr>\n",
       "      <th>9</th>\n",
       "      <td>10</td>\n",
       "      <td>H32</td>\n",
       "      <td>H</td>\n",
       "      <td>1</td>\n",
       "      <td>NBU</td>\n",
       "      <td>0</td>\n",
       "      <td></td>\n",
       "    </tr>\n",
       "    <tr>\n",
       "      <th>10</th>\n",
       "      <td>11</td>\n",
       "      <td>C4</td>\n",
       "      <td>C</td>\n",
       "      <td>1</td>\n",
       "      <td>NBU</td>\n",
       "      <td>0</td>\n",
       "      <td></td>\n",
       "    </tr>\n",
       "    <tr>\n",
       "      <th>11</th>\n",
       "      <td>12</td>\n",
       "      <td>H41</td>\n",
       "      <td>H</td>\n",
       "      <td>1</td>\n",
       "      <td>NBU</td>\n",
       "      <td>0</td>\n",
       "      <td></td>\n",
       "    </tr>\n",
       "    <tr>\n",
       "      <th>12</th>\n",
       "      <td>13</td>\n",
       "      <td>H42</td>\n",
       "      <td>H</td>\n",
       "      <td>1</td>\n",
       "      <td>NBU</td>\n",
       "      <td>0</td>\n",
       "      <td></td>\n",
       "    </tr>\n",
       "    <tr>\n",
       "      <th>13</th>\n",
       "      <td>14</td>\n",
       "      <td>H43</td>\n",
       "      <td>H</td>\n",
       "      <td>1</td>\n",
       "      <td>NBU</td>\n",
       "      <td>0</td>\n",
       "      <td></td>\n",
       "    </tr>\n",
       "  </tbody>\n",
       "</table>\n",
       "</div>"
      ],
      "text/plain": [
       "    serial name element  resSeq resName  chainID segmentID\n",
       "0        1   C1       C       1     NBU        0          \n",
       "1        2  H11       H       1     NBU        0          \n",
       "2        3  H12       H       1     NBU        0          \n",
       "3        4  H13       H       1     NBU        0          \n",
       "4        5   C2       C       1     NBU        0          \n",
       "5        6  H21       H       1     NBU        0          \n",
       "6        7  H22       H       1     NBU        0          \n",
       "7        8   C3       C       1     NBU        0          \n",
       "8        9  H31       H       1     NBU        0          \n",
       "9       10  H32       H       1     NBU        0          \n",
       "10      11   C4       C       1     NBU        0          \n",
       "11      12  H41       H       1     NBU        0          \n",
       "12      13  H42       H       1     NBU        0          \n",
       "13      14  H43       H       1     NBU        0          "
      ]
     },
     "execution_count": 3,
     "metadata": {},
     "output_type": "execute_result"
    }
   ],
   "source": [
    "atoms, bonds = traj.topology.to_dataframe()\n",
    "atoms"
   ]
  },
  {
   "cell_type": "code",
   "execution_count": 6,
   "id": "e6fbe40e",
   "metadata": {},
   "outputs": [
    {
     "name": "stdout",
     "output_type": "stream",
     "text": [
      "[[1.1257691]\n",
      " [1.236567 ]\n",
      " [1.1725698]\n",
      " ...\n",
      " [3.042876 ]\n",
      " [2.8413155]\n",
      " [2.9022443]]\n"
     ]
    }
   ],
   "source": [
    "dihedral_indices = [0,4,7,10] # atoms to define the torsion angle\n",
    "phi = md.compute_dihedrals(traj, [dihedral_indices])\n",
    "\n",
    "print(phi)"
   ]
  },
  {
   "cell_type": "code",
   "execution_count": 11,
   "id": "5d52395a",
   "metadata": {},
   "outputs": [
    {
     "data": {
      "image/png": "[encoded data removed]",
      "text/plain": [
       "<Figure size 432x288 with 1 Axes>"
      ]
     },
     "metadata": {
      "needs_background": "light"
     },
     "output_type": "display_data"
    }
   ],
   "source": [
    "import matplotlib.pyplot as plt\n",
    "phicounts, torbinedges, otherstuff = plt.hist(phi, bins=90) # create a histogram with 90 bins\n",
    "plt.title('C-C-C-C torsion angle')\n",
    "plt.xlabel(r'$\\phi$ (rad)')\n",
    "plt.ylabel('Counts')\n",
    "plt.show()"
   ]
  },
  {
   "cell_type": "code",
   "execution_count": 8,
   "id": "5c76da5b",
   "metadata": {
    "scrolled": true
   },
   "outputs": [
    {
     "data": {
      "image/png": "[encoded data removed]",
      "text/plain": [
       "<Figure size 432x288 with 1 Axes>"
      ]
     },
     "metadata": {
      "needs_background": "light"
     },
     "output_type": "display_data"
    }
   ],
   "source": [
    "import numpy as np\n",
    "kB = 8.31446/1000 # Boltzmann constant in kJ/mol\n",
    "Temp = 298.15 # simulation temperature\n",
    "phicounts[phicounts==0] = 0.1 # get rid of any bins with 0 counts/infinite energy\n",
    "pmf = -kB*Temp*np.log(phicounts) # W(x) = -kT*ln[p(x)] = -kT*ln[n(x)] + C\n",
    "pmf = pmf - np.min(pmf) # subtract off minimum value so that energies start from 0\n",
    "\n",
    "bincenters = (torbinedges[1:] + torbinedges[:-1])/2 # compute centers of histogram bins\n",
    "\n",
    "plt.plot(bincenters, pmf)\n",
    "plt.title('H-C-C-H torsion pmf')\n",
    "plt.xlabel(r'$\\phi$ (rad)')\n",
    "plt.ylabel('Relative free energy (kJ/mol)')\n",
    "plt.show()"
   ]
  },
  {
   "cell_type": "code",
   "execution_count": 12,
   "id": "3dff7b20",
   "metadata": {},
   "outputs": [
    {
     "data": {
      "image/png": "[encoded data removed]",
      "text/plain": [
       "<Figure size 432x288 with 1 Axes>"
      ]
     },
     "metadata": {
      "needs_background": "light"
     },
     "output_type": "display_data"
    }
   ],
   "source": [
    "angle_indices = [0, 4, 7] \n",
    "bondangle = md.compute_angles(traj, [angle_indices])\n",
    "\n",
    "anglecounts, binedges, otherstuff = plt.hist(bondangle, bins=100)\n",
    "plt.title('C-C-C bond angle')\n",
    "plt.xlabel('Bond angle (rad)')\n",
    "plt.ylabel('Counts')\n",
    "plt.show()"
   ]
  },
  {
   "cell_type": "code",
   "execution_count": 13,
   "id": "f4b0de46",
   "metadata": {},
   "outputs": [
    {
     "data": {
      "image/png": "[encoded data removed]",
      "text/plain": [
       "<Figure size 432x288 with 1 Axes>"
      ]
     },
     "metadata": {
      "needs_background": "light"
     },
     "output_type": "display_data"
    }
   ],
   "source": [
    "kB = 8.31446/1000 # Boltzmann constant in kJ/mol\n",
    "Temp = 298.15 # simulation temperature\n",
    "anglecounts[anglecounts==0] = 0.1 # get rid of any bins with 0 counts/infinite energy\n",
    "pmf = -kB*Temp*np.log(anglecounts) # W(x) = -kT*ln[p(x)] = -kT*ln[n(x)] + C\n",
    "pmf = pmf - np.min(pmf) # subtract off minimum value so that energies start from 0\n",
    "\n",
    "bincenters = (binedges[1:] + binedges[:-1])/2 # compute centers of histogram bins\n",
    "\n",
    "plt.plot(bincenters, pmf)\n",
    "plt.title('C-C-C angle pmf')\n",
    "plt.xlabel(r'bond angle (rad)')\n",
    "plt.ylabel('Relative free energy (kJ/mol)')\n",
    "plt.show()"
   ]
  },
  {
   "cell_type": "code",
   "execution_count": 15,
   "id": "66b05605",
   "metadata": {},
   "outputs": [
    {
     "data": {
      "image/png": "[encoded data removed]",
      "text/plain": [
       "<Figure size 432x288 with 1 Axes>"
      ]
     },
     "metadata": {
      "needs_background": "light"
     },
     "output_type": "display_data"
    }
   ],
   "source": [
    "bond_indices = [0, 1] \n",
    "bondlength = md.compute_distances(traj, [bond_indices])\n",
    "\n",
    "bondcounts, bondbinedges, otherstuff = plt.hist(bondlength, bins=100)\n",
    "plt.title('C-H bond length')\n",
    "plt.xlabel('Bond Length (nm)')\n",
    "plt.ylabel('Counts')\n",
    "plt.show()"
   ]
  },
  {
   "cell_type": "code",
   "execution_count": null,
   "id": "cd54512b",
   "metadata": {},
   "outputs": [],
   "source": [
    "The C-H bond does not seem to obey a harmonic potential. "
   ]
  },
  {
   "cell_type": "code",
   "execution_count": null,
   "id": "27a46793",
   "metadata": {},
   "outputs": [],
   "source": []
  }
 ],
 "metadata": {
  "kernelspec": {
   "display_name": "Python 3 (ipykernel)",
   "language": "python",
   "name": "python3"
  },
  "language_info": {
   "codemirror_mode": {
    "name": "ipython",
    "version": 3
   },
   "file_extension": ".py",
   "mimetype": "text/x-python",
   "name": "python",
   "nbconvert_exporter": "python",
   "pygments_lexer": "ipython3",
   "version": "3.9.7"
  }
 },
 "nbformat": 4,
 "nbformat_minor": 5
}
