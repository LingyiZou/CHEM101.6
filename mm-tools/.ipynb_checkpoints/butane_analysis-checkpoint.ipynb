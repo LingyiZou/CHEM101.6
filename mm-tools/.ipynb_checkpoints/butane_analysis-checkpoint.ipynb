{
 "cells": [
  {
   "cell_type": "code",
   "execution_count": 1,
   "id": "9b8ac0d7",
   "metadata": {},
   "outputs": [],
   "source": [
    "import mdtraj as md\n",
    "traj = md.load('butane_sim.dcd', top='butane.pdb')"
   ]
  },
  {
   "cell_type": "code",
   "execution_count": 2,
   "id": "6183eb20",
   "metadata": {},
   "outputs": [
    {
     "data": {
      "application/vnd.jupyter.widget-view+json": {
       "model_id": "cd62097a5bc04601adb569b79b368842",
       "version_major": 2,
       "version_minor": 0
      },
      "text/plain": []
     },
     "metadata": {},
     "output_type": "display_data"
    },
    {
     "data": {
      "application/vnd.jupyter.widget-view+json": {
       "model_id": "1e9aaaab5e3a441ab7e2631fb0aa16c7",
       "version_major": 2,
       "version_minor": 0
      },
      "text/plain": [
       "NGLWidget(max_frame=199999)"
      ]
     },
     "metadata": {},
     "output_type": "display_data"
    }
   ],
   "source": [
    "import nglview as ngl\n",
    "\n",
    "visualize = ngl.show_mdtraj(traj)\n",
    "visualize"
   ]
  },
  {
   "cell_type": "code",
   "execution_count": 3,
   "id": "bc08af9e",
   "metadata": {},
   "outputs": [
    {
     "data": {
      "text/html": [
       "<div>\n",
       "<style scoped>\n",
       "    .dataframe tbody tr th:only-of-type {\n",
       "        vertical-align: middle;\n",
       "    }\n",
       "\n",
       "    .dataframe tbody tr th {\n",
       "        vertical-align: top;\n",
       "    }\n",
       "\n",
       "    .dataframe thead th {\n",
       "        text-align: right;\n",
       "    }\n",
       "</style>\n",
       "<table border=\"1\" class=\"dataframe\">\n",
       "  <thead>\n",
       "    <tr style=\"text-align: right;\">\n",
       "      <th></th>\n",
       "      <th>serial</th>\n",
       "      <th>name</th>\n",
       "      <th>element</th>\n",
       "      <th>resSeq</th>\n",
       "      <th>resName</th>\n",
       "      <th>chainID</th>\n",
       "      <th>segmentID</th>\n",
       "    </tr>\n",
       "  </thead>\n",
       "  <tbody>\n",
       "    <tr>\n",
       "      <th>0</th>\n",
       "      <td>1</td>\n",
       "      <td>C1</td>\n",
       "      <td>C</td>\n",
       "      <td>1</td>\n",
       "      <td>NBU</td>\n",
       "      <td>0</td>\n",
       "      <td></td>\n",
       "    </tr>\n",
       "    <tr>\n",
       "      <th>1</th>\n",
       "      <td>2</td>\n",
       "      <td>H11</td>\n",
       "      <td>H</td>\n",
       "      <td>1</td>\n",
       "      <td>NBU</td>\n",
       "      <td>0</td>\n",
       "      <td></td>\n",
       "    </tr>\n",
       "    <tr>\n",
       "      <th>2</th>\n",
       "      <td>3</td>\n",
       "      <td>H12</td>\n",
       "      <td>H</td>\n",
       "      <td>1</td>\n",
       "      <td>NBU</td>\n",
       "      <td>0</td>\n",
       "      <td></td>\n",
       "    </tr>\n",
       "    <tr>\n",
       "      <th>3</th>\n",
       "      <td>4</td>\n",
       "      <td>H13</td>\n",
       "      <td>H</td>\n",
       "      <td>1</td>\n",
       "      <td>NBU</td>\n",
       "      <td>0</td>\n",
       "      <td></td>\n",
       "    </tr>\n",
       "    <tr>\n",
       "      <th>4</th>\n",
       "      <td>5</td>\n",
       "      <td>C2</td>\n",
       "      <td>C</td>\n",
       "      <td>1</td>\n",
       "      <td>NBU</td>\n",
       "      <td>0</td>\n",
       "      <td></td>\n",
       "    </tr>\n",
       "    <tr>\n",
       "      <th>5</th>\n",
       "      <td>6</td>\n",
       "      <td>H21</td>\n",
       "      <td>H</td>\n",
       "      <td>1</td>\n",
       "      <td>NBU</td>\n",
       "      <td>0</td>\n",
       "      <td></td>\n",
       "    </tr>\n",
       "    <tr>\n",
       "      <th>6</th>\n",
       "      <td>7</td>\n",
       "      <td>H22</td>\n",
       "      <td>H</td>\n",
       "      <td>1</td>\n",
       "      <td>NBU</td>\n",
       "      <td>0</td>\n",
       "      <td></td>\n",
       "    </tr>\n",
       "    <tr>\n",
       "      <th>7</th>\n",
       "      <td>8</td>\n",
       "      <td>C3</td>\n",
       "      <td>C</td>\n",
       "      <td>1</td>\n",
       "      <td>NBU</td>\n",
       "      <td>0</td>\n",
       "      <td></td>\n",
       "    </tr>\n",
       "    <tr>\n",
       "      <th>8</th>\n",
       "      <td>9</td>\n",
       "      <td>H31</td>\n",
       "      <td>H</td>\n",
       "      <td>1</td>\n",
       "      <td>NBU</td>\n",
       "      <td>0</td>\n",
       "      <td></td>\n",
       "    </tr>\n",
       "    <tr>\n",
       "      <th>9</th>\n",
       "      <td>10</td>\n",
       "      <td>H32</td>\n",
       "      <td>H</td>\n",
       "      <td>1</td>\n",
       "      <td>NBU</td>\n",
       "      <td>0</td>\n",
       "      <td></td>\n",
       "    </tr>\n",
       "    <tr>\n",
       "      <th>10</th>\n",
       "      <td>11</td>\n",
       "      <td>C4</td>\n",
       "      <td>C</td>\n",
       "      <td>1</td>\n",
       "      <td>NBU</td>\n",
       "      <td>0</td>\n",
       "      <td></td>\n",
       "    </tr>\n",
       "    <tr>\n",
       "      <th>11</th>\n",
       "      <td>12</td>\n",
       "      <td>H41</td>\n",
       "      <td>H</td>\n",
       "      <td>1</td>\n",
       "      <td>NBU</td>\n",
       "      <td>0</td>\n",
       "      <td></td>\n",
       "    </tr>\n",
       "    <tr>\n",
       "      <th>12</th>\n",
       "      <td>13</td>\n",
       "      <td>H42</td>\n",
       "      <td>H</td>\n",
       "      <td>1</td>\n",
       "      <td>NBU</td>\n",
       "      <td>0</td>\n",
       "      <td></td>\n",
       "    </tr>\n",
       "    <tr>\n",
       "      <th>13</th>\n",
       "      <td>14</td>\n",
       "      <td>H43</td>\n",
       "      <td>H</td>\n",
       "      <td>1</td>\n",
       "      <td>NBU</td>\n",
       "      <td>0</td>\n",
       "      <td></td>\n",
       "    </tr>\n",
       "  </tbody>\n",
       "</table>\n",
       "</div>"
      ],
      "text/plain": [
       "    serial name element  resSeq resName  chainID segmentID\n",
       "0        1   C1       C       1     NBU        0          \n",
       "1        2  H11       H       1     NBU        0          \n",
       "2        3  H12       H       1     NBU        0          \n",
       "3        4  H13       H       1     NBU        0          \n",
       "4        5   C2       C       1     NBU        0          \n",
       "5        6  H21       H       1     NBU        0          \n",
       "6        7  H22       H       1     NBU        0          \n",
       "7        8   C3       C       1     NBU        0          \n",
       "8        9  H31       H       1     NBU        0          \n",
       "9       10  H32       H       1     NBU        0          \n",
       "10      11   C4       C       1     NBU        0          \n",
       "11      12  H41       H       1     NBU        0          \n",
       "12      13  H42       H       1     NBU        0          \n",
       "13      14  H43       H       1     NBU        0          "
      ]
     },
     "execution_count": 3,
     "metadata": {},
     "output_type": "execute_result"
    }
   ],
   "source": [
    "atoms, bonds = traj.topology.to_dataframe()\n",
    "atoms"
   ]
  },
  {
   "cell_type": "code",
   "execution_count": 6,
   "id": "e6fbe40e",
   "metadata": {},
   "outputs": [
    {
     "name": "stdout",
     "output_type": "stream",
     "text": [
      "[[1.1257691]\n",
      " [1.236567 ]\n",
      " [1.1725698]\n",
      " ...\n",
      " [3.042876 ]\n",
      " [2.8413155]\n",
      " [2.9022443]]\n"
     ]
    }
   ],
   "source": [
    "dihedral_indices = [0,4,7,10] # atoms to define the torsion angle\n",
    "phi = md.compute_dihedrals(traj, [dihedral_indices])\n",
    "\n",
    "print(phi)"
   ]
  },
  {
   "cell_type": "code",
   "execution_count": 11,
   "id": "5d52395a",
   "metadata": {},
   "outputs": [
    {
     "data": {
      "image/png": "[encoded data removed]",
      "text/plain": [
       "<Figure size 432x288 with 1 Axes>"
      ]
     },
     "metadata": {
      "needs_background": "light"
     },
     "output_type": "display_data"
    }
   ],
   "source": [
    "import matplotlib.pyplot as plt\n",
    "phicounts, torbinedges, otherstuff = plt.hist(phi, bins=90) # create a histogram with 90 bins\n",
    "plt.title('C-C-C-C torsion angle')\n",
    "plt.xlabel(r'$\\phi$ (rad)')\n",
    "plt.ylabel('Counts')\n",
    "plt.show()"
   ]
  },
  {
   "cell_type": "code",
   "execution_count": 8,
   "id": "5c76da5b",
   "metadata": {
    "scrolled": true
   },
   "outputs": [
    {
     "data": {
      "image/png": "[encoded data removed]",
      "text/plain": [
       "<Figure size 432x288 with 1 Axes>"
      ]
     },
     "metadata": {
      "needs_background": "light"
     },
     "output_type": "display_data"
    }
   ],
   "source": [
    "import numpy as np\n",
    "kB = 8.31446/1000 # Boltzmann constant in kJ/mol\n",
    "Temp = 298.15 # simulation temperature\n",
    "phicounts[phicounts==0] = 0.1 # get rid of any bins with 0 counts/infinite energy\n",
    "pmf = -kB*Temp*np.log(phicounts) # W(x) = -kT*ln[p(x)] = -kT*ln[n(x)] + C\n",
    "pmf = pmf - np.min(pmf) # subtract off minimum value so that energies start from 0\n",
    "\n",
    "bincenters = (torbinedges[1:] + torbinedges[:-1])/2 # compute centers of histogram bins\n",
    "\n",
    "plt.plot(bincenters, pmf)\n",
    "plt.title('H-C-C-H torsion pmf')\n",
    "plt.xlabel(r'$\\phi$ (rad)')\n",
    "plt.ylabel('Relative free energy (kJ/mol)')\n",
    "plt.show()"
   ]
  },
  {
   "cell_type": "code",
   "execution_count": 12,
   "id": "3dff7b20",
   "metadata": {},
   "outputs": [
    {
     "data": {
      "image/png": "[encoded data removed]",
      "text/plain": [
       "<Figure size 432x288 with 1 Axes>"
      ]
     },
     "metadata": {
      "needs_background": "light"
     },
     "output_type": "display_data"
    }
   ],
   "source": [
    "angle_indices = [0, 4, 7] \n",
    "bondangle = md.compute_angles(traj, [angle_indices])\n",
    "\n",
    "anglecounts, binedges, otherstuff = plt.hist(bondangle, bins=100)\n",
    "plt.title('C-C-C bond angle')\n",
    "plt.xlabel('Bond angle (rad)')\n",
    "plt.ylabel('Counts')\n",
    "plt.show()"
   ]
  },
  {
   "cell_type": "code",
   "execution_count": 13,
   "id": "f4b0de46",
   "metadata": {},
   "outputs": [
    {
     "data": {
      "image/png": "[encoded data removed]",
      "text/plain": [
       "<Figure size 432x288 with 1 Axes>"
      ]
     },
     "metadata": {
      "needs_background": "light"
     },
     "output_type": "display_data"
    }
   ],
   "source": [
    "kB = 8.31446/1000 # Boltzmann constant in kJ/mol\n",
    "Temp = 298.15 # simulation temperature\n",
    "anglecounts[anglecounts==0] = 0.1 # get rid of any bins with 0 counts/infinite energy\n",
    "pmf = -kB*Temp*np.log(anglecounts) # W(x) = -kT*ln[p(x)] = -kT*ln[n(x)] + C\n",
    "pmf = pmf - np.min(pmf) # subtract off minimum value so that energies start from 0\n",
    "\n",
    "bincenters = (binedges[1:] + binedges[:-1])/2 # compute centers of histogram bins\n",
    "\n",
    "plt.plot(bincenters, pmf)\n",
    "plt.title('C-C-C angle pmf')\n",
    "plt.xlabel(r'bond angle (rad)')\n",
    "plt.ylabel('Relative free energy (kJ/mol)')\n",
    "plt.show()"
   ]
  },
  {
   "cell_type": "code",
   "execution_count": 15,
   "id": "66b05605",
   "metadata": {},
   "outputs": [
    {
     "data": {
      "image/png": "[encoded data removed]",
      "text/plain": [
       "<Figure size 432x288 with 1 Axes>"
      ]
     },
     "metadata": {
      "needs_background": "light"
     },
     "output_type": "display_data"
    }
   ],
   "source": [
    "bond_indices = [0, 1] \n",
    "bondlength = md.compute_distances(traj, [bond_indices])\n",
    "\n",
    "bondcounts, bondbinedges, otherstuff = plt.hist(bondlength, bins=100)\n",
    "plt.title('C-H bond length')\n",
    "plt.xlabel('Bond Length (nm)')\n",
    "plt.ylabel('Counts')\n",
    "plt.show()"
   ]
  },
  {
   "cell_type": "code",
   "execution_count": null,
   "id": "cd54512b",
   "metadata": {},
   "outputs": [],
   "source": [
    "The C-H bond does not seem to obey a harmonic potential. "
   ]
  }
 ],
 "metadata": {
  "kernelspec": {
   "display_name": "Python 3 (ipykernel)",
   "language": "python",
   "name": "python3"
  },
  "language_info": {
   "codemirror_mode": {
    "name": "ipython",
    "version": 3
   },
   "file_extension": ".py",
   "mimetype": "text/x-python",
   "name": "python",
   "nbconvert_exporter": "python",
   "pygments_lexer": "ipython3",
   "version": "3.7.11"
  }
 },
 "nbformat": 4,
 "nbformat_minor": 5
}
